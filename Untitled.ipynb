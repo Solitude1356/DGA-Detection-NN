{
 "cells": [
  {
   "cell_type": "code",
   "execution_count": 13,
   "id": "28bb5302-a109-4d37-b886-14ecbd27f429",
   "metadata": {},
   "outputs": [],
   "source": [
    "from docx import Document\n",
    "from docx.shared import Pt\n",
    "import re\n",
    "import os\n",
    "r = 'D:\\LABs\\Diploma'\n",
    "os.chdir(r)"
   ]
  },
  {
   "cell_type": "code",
   "execution_count": 20,
   "id": "2e7b9d79-b5eb-4876-a066-92e73e6ea309",
   "metadata": {},
   "outputs": [],
   "source": [
    "def increment_citations(doc_path):\n",
    "    doc = Document(doc_path)\n",
    "    for paragraph in doc.paragraphs:\n",
    "        for match in re.finditer(r'\\u00A0\\[(\\d+(?:,\\s*\\d+)*)\\]', paragraph.text):\n",
    "            citation = match.group(1)\n",
    "            citation_numbers = [int(num) for num in citation.split(',')]\n",
    "            new_citation_numbers = []\n",
    "            for num in citation_numbers:\n",
    "                if 1 <= num <= 35:\n",
    "                    new_num = num + 2\n",
    "                elif 37 <= num <= 38:\n",
    "                    new_num = num + 1\n",
    "                else:\n",
    "                    new_num = num\n",
    "                new_citation_numbers.append(new_num)\n",
    "            new_citation = ','.join(str(num) for num in new_citation_numbers)\n",
    "            paragraph.text = paragraph.text.replace(f'\\u00A0[{citation}]', f'\\u00A0[{new_citation}]')\n",
    "            for run in paragraph.runs:\n",
    "                run.font.name = 'Times New Roman'\n",
    "                run.font.size = Pt(14)\n",
    "    doc.save(doc_path)"
   ]
  },
  {
   "cell_type": "code",
   "execution_count": 21,
   "id": "abacc9f5-8674-4d76-8f3c-0520f7e18717",
   "metadata": {},
   "outputs": [],
   "source": [
    "# Usage\n",
    "doc_path = 'Draft1.docx'\n",
    "increment_citations(doc_path)"
   ]
  },
  {
   "cell_type": "code",
   "execution_count": null,
   "id": "2a02637c-0215-4d47-89d9-3f4aff86c59e",
   "metadata": {},
   "outputs": [],
   "source": []
  },
  {
   "cell_type": "code",
   "execution_count": null,
   "id": "16d09f41-af13-465c-8bb8-5170237abbf1",
   "metadata": {},
   "outputs": [],
   "source": []
  }
 ],
 "metadata": {
  "kernelspec": {
   "display_name": "Python 3 (ipykernel)",
   "language": "python",
   "name": "python3"
  },
  "language_info": {
   "codemirror_mode": {
    "name": "ipython",
    "version": 3
   },
   "file_extension": ".py",
   "mimetype": "text/x-python",
   "name": "python",
   "nbconvert_exporter": "python",
   "pygments_lexer": "ipython3",
   "version": "3.11.2"
  }
 },
 "nbformat": 4,
 "nbformat_minor": 5
}
